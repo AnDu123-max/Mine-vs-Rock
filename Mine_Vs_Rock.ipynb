{
  "nbformat": 4,
  "nbformat_minor": 0,
  "metadata": {
    "colab": {
      "provenance": [],
      "authorship_tag": "ABX9TyMXqiZ9K28CfDyEzjHYkTby",
      "include_colab_link": true
    },
    "kernelspec": {
      "name": "python3",
      "display_name": "Python 3"
    },
    "language_info": {
      "name": "python"
    }
  },
  "cells": [
    {
      "cell_type": "markdown",
      "metadata": {
        "id": "view-in-github",
        "colab_type": "text"
      },
      "source": [
        "<a href=\"https://colab.research.google.com/github/AnDu123-max/Mine-vs-Rock/blob/main/Mine_Vs_Rock.ipynb\" target=\"_parent\"><img src=\"https://colab.research.google.com/assets/colab-badge.svg\" alt=\"Open In Colab\"/></a>"
      ]
    },
    {
      "cell_type": "code",
      "execution_count": 1,
      "metadata": {
        "id": "YK1VmymujZs-"
      },
      "outputs": [],
      "source": [
        "import pandas as pd\n",
        "import numpy as np\n",
        "from sklearn.model_selection import train_test_split\n",
        "from sklearn.linear_model import LogisticRegression\n",
        "from sklearn.preprocessing import StandardScaler\n",
        "from sklearn.pipeline import make_pipeline\n",
        "from sklearn.metrics import accuracy_score, classification_report, confusion_matrix\n",
        "import matplotlib.pyplot as plt\n"
      ]
    },
    {
      "cell_type": "code",
      "source": [
        "sonar_data = pd.read_csv('sonar data.csv', header=None)\n",
        "X = sonar_data.drop(columns=60, axis=1)\n",
        "y = sonar_data[60]\n",
        "\n",
        "#train-test split\n",
        "X_train, X_test, y_train, y_test = train_test_split(X, y, test_size=0.10, stratify=y, random_state=1)\n",
        "\n",
        "#build pipeline\n",
        "pipeline = make_pipeline(StandardScaler(),LogisticRegression(solver='liblinear', max_iter=200))\n",
        "pipeline.fit(X_train, y_train)\n",
        "\n",
        "\n",
        "#evaluation metric\n",
        "y_train_pred = pipeline.predict(X_train)\n",
        "y_test_pred = pipeline.predict(X_test)\n",
        "train_acc = accuracy_score(y_train, y_train_pred)\n",
        "test_acc = accuracy_score(y_test, y_test_pred)\n",
        "print(f\"Accuracy on training data: {train_acc:.4f}\")\n",
        "print(f\"Accuracy on test data:     {test_acc:.4f}\\n\")\n",
        "print(\"Classification report (test data):\")\n",
        "print(classification_report(y_test, y_test_pred, digits=4))\n",
        "\n",
        "#confusion matrix and evaluation\n",
        "cm = confusion_matrix(y_test, y_test_pred, labels=[\"R\", \"M\"])\n",
        "labels = [\"R (Rock)\", \"M (Mine)\"]\n",
        "\n",
        "print(\"Confusion matrix (rows: true, columns: predicted):\")\n",
        "print(pd.DataFrame(cm, index=labels, columns=labels))\n",
        "\n",
        "\n",
        "\n",
        "#plot confusion matrix\n",
        "fig, ax = plt.subplots(figsize=(5,4))\n",
        "im = ax.imshow(cm, interpolation='nearest', aspect='auto')\n",
        "ax.set_title(\"Confusion Matrix — Test Data\")\n",
        "ax.set_xticks(np.arange(len(labels)))\n",
        "ax.set_xticklabels(labels)\n",
        "ax.set_yticks(np.arange(len(labels)))\n",
        "ax.set_yticklabels(labels)\n",
        "\n",
        "\n",
        "\n",
        "#annotate counts\n",
        "thresh = cm.max() / 2.0\n",
        "for i in range(cm.shape[0]):\n",
        "    for j in range(cm.shape[1]):\n",
        "        ax.text(j, i, format(cm[i, j], 'd'),\n",
        "                ha=\"center\", va=\"center\",\n",
        "                fontsize=12)\n",
        "\n",
        "ax.set_ylabel('True label')\n",
        "ax.set_xlabel('Predicted label')\n",
        "fig.tight_layout()\n",
        "plt.show()\n",
        "\n",
        "\n",
        "#predict new sample\n",
        "input_data = (\n",
        "    0.0100, 0.0171, 0.0623, 0.0205, 0.0205, 0.0368, 0.1098, 0.1276, 0.0598, 0.1264,\n",
        "    0.0881, 0.1992, 0.0184, 0.2261, 0.1729, 0.2131, 0.0693, 0.2281, 0.4060, 0.3973,\n",
        "    0.2741, 0.3690, 0.5556, 0.4846, 0.3140, 0.5334, 0.5256, 0.2520, 0.2090, 0.3559,\n",
        "    0.6260, 0.7340, 0.6120, 0.3497, 0.3953, 0.3012, 0.5408, 0.8814, 0.9857, 0.9167,\n",
        "    0.6121, 0.5006, 0.3210, 0.3202, 0.4295, 0.3654, 0.2655, 0.1576, 0.0681, 0.0294,\n",
        "    0.0241, 0.0121, 0.0036, 0.0150, 0.0085, 0.0073, 0.0050, 0.0044, 0.0040, 0.0117\n",
        ")\n",
        "input_array = np.asarray(input_data).reshape(1, -1)\n",
        "prediction = pipeline.predict(input_array)[0]\n",
        "print(f\"\\nPrediction for the provided input sample: {prediction}\")\n",
        "if prediction == 'R':\n",
        "    print(\"Interpreted class: ROCK\")\n",
        "else:\n",
        "    print(\"Interpreted class: MINE\")\n",
        "\n",
        "\n",
        "\n",
        "\n",
        "\n",
        "\n"
      ],
      "metadata": {
        "id": "TgZY73o6jpsI",
        "colab": {
          "base_uri": "https://localhost:8080/",
          "height": 754
        },
        "outputId": "9ed3a3ed-a39f-482a-a394-ed16621cc2f6",
        "collapsed": true
      },
      "execution_count": 3,
      "outputs": [
        {
          "output_type": "stream",
          "name": "stdout",
          "text": [
            "Accuracy on training data: 0.9198\n",
            "Accuracy on test data:     0.7619\n",
            "\n",
            "Classification report (test data):\n",
            "              precision    recall  f1-score   support\n",
            "\n",
            "           M     0.7500    0.8182    0.7826        11\n",
            "           R     0.7778    0.7000    0.7368        10\n",
            "\n",
            "    accuracy                         0.7619        21\n",
            "   macro avg     0.7639    0.7591    0.7597        21\n",
            "weighted avg     0.7632    0.7619    0.7608        21\n",
            "\n",
            "Confusion matrix (rows: true, columns: predicted):\n",
            "          R (Rock)  M (Mine)\n",
            "R (Rock)         7         3\n",
            "M (Mine)         2         9\n"
          ]
        },
        {
          "output_type": "display_data",
          "data": {
            "text/plain": [
              "<Figure size 500x400 with 1 Axes>"
            ],
            "image/png": "[encoded data removed]"
          },
          "metadata": {}
        },
        {
          "output_type": "stream",
          "name": "stdout",
          "text": [
            "\n",
            "Prediction for the provided input sample: R\n",
            "Interpreted class: ROCK\n"
          ]
        }
      ]
    }
  ]
}